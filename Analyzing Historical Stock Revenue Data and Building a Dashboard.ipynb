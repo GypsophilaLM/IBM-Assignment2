{
 "cells": [
  {
   "cell_type": "markdown",
   "id": "3fae0e72",
   "metadata": {},
   "source": [
    "# Using yfinance to Extrat Data"
   ]
  },
  {
   "cell_type": "code",
   "execution_count": 35,
   "id": "14c924bd",
   "metadata": {
    "tags": []
   },
   "outputs": [
    {
     "name": "stdout",
     "output_type": "stream",
     "text": [
      "Requirement already satisfied: yfinance in ./anaconda3/lib/python3.11/site-packages (0.2.36)\n",
      "Requirement already satisfied: pandas>=1.3.0 in ./anaconda3/lib/python3.11/site-packages (from yfinance) (2.0.3)\n",
      "Requirement already satisfied: numpy>=1.16.5 in ./anaconda3/lib/python3.11/site-packages (from yfinance) (1.24.3)\n",
      "Requirement already satisfied: requests>=2.31 in ./anaconda3/lib/python3.11/site-packages (from yfinance) (2.31.0)\n",
      "Requirement already satisfied: multitasking>=0.0.7 in ./anaconda3/lib/python3.11/site-packages (from yfinance) (0.0.11)\n",
      "Requirement already satisfied: lxml>=4.9.1 in ./anaconda3/lib/python3.11/site-packages (from yfinance) (4.9.3)\n",
      "Requirement already satisfied: appdirs>=1.4.4 in ./anaconda3/lib/python3.11/site-packages (from yfinance) (1.4.4)\n",
      "Requirement already satisfied: pytz>=2022.5 in ./anaconda3/lib/python3.11/site-packages (from yfinance) (2023.3.post1)\n",
      "Requirement already satisfied: frozendict>=2.3.4 in ./anaconda3/lib/python3.11/site-packages (from yfinance) (2.4.0)\n",
      "Requirement already satisfied: peewee>=3.16.2 in ./anaconda3/lib/python3.11/site-packages (from yfinance) (3.17.0)\n",
      "Requirement already satisfied: beautifulsoup4>=4.11.1 in ./anaconda3/lib/python3.11/site-packages (from yfinance) (4.12.2)\n",
      "Requirement already satisfied: html5lib>=1.1 in ./anaconda3/lib/python3.11/site-packages (from yfinance) (1.1)\n",
      "Requirement already satisfied: soupsieve>1.2 in ./anaconda3/lib/python3.11/site-packages (from beautifulsoup4>=4.11.1->yfinance) (2.4)\n",
      "Requirement already satisfied: six>=1.9 in ./anaconda3/lib/python3.11/site-packages (from html5lib>=1.1->yfinance) (1.16.0)\n",
      "Requirement already satisfied: webencodings in ./anaconda3/lib/python3.11/site-packages (from html5lib>=1.1->yfinance) (0.5.1)\n",
      "Requirement already satisfied: python-dateutil>=2.8.2 in ./anaconda3/lib/python3.11/site-packages (from pandas>=1.3.0->yfinance) (2.8.2)\n",
      "Requirement already satisfied: tzdata>=2022.1 in ./anaconda3/lib/python3.11/site-packages (from pandas>=1.3.0->yfinance) (2023.3)\n",
      "Requirement already satisfied: charset-normalizer<4,>=2 in ./anaconda3/lib/python3.11/site-packages (from requests>=2.31->yfinance) (2.0.4)\n",
      "Requirement already satisfied: idna<4,>=2.5 in ./anaconda3/lib/python3.11/site-packages (from requests>=2.31->yfinance) (3.4)\n",
      "Requirement already satisfied: urllib3<3,>=1.21.1 in ./anaconda3/lib/python3.11/site-packages (from requests>=2.31->yfinance) (1.26.16)\n",
      "Requirement already satisfied: certifi>=2017.4.17 in ./anaconda3/lib/python3.11/site-packages (from requests>=2.31->yfinance) (2023.7.22)\n",
      "Note: you may need to restart the kernel to use updated packages.\n"
     ]
    }
   ],
   "source": [
    "pip install yfinance"
   ]
  },
  {
   "cell_type": "code",
   "execution_count": 3,
   "id": "afe57929",
   "metadata": {},
   "outputs": [],
   "source": [
    "import yfinance as yf"
   ]
  },
  {
   "cell_type": "code",
   "execution_count": 4,
   "id": "964c04a5",
   "metadata": {},
   "outputs": [],
   "source": [
    "#stock symbol/ticker symbol of a company\n",
    "stock_symbol = 'TSLA'"
   ]
  },
  {
   "cell_type": "code",
   "execution_count": 5,
   "id": "64efad86",
   "metadata": {},
   "outputs": [
    {
     "name": "stdout",
     "output_type": "stream",
     "text": [
      "Requirement already satisfied: yfinance in ./anaconda3/lib/python3.11/site-packages (0.2.36)\n",
      "Requirement already satisfied: pandas>=1.3.0 in ./anaconda3/lib/python3.11/site-packages (from yfinance) (2.0.3)\n",
      "Requirement already satisfied: numpy>=1.16.5 in ./anaconda3/lib/python3.11/site-packages (from yfinance) (1.24.3)\n",
      "Requirement already satisfied: requests>=2.31 in ./anaconda3/lib/python3.11/site-packages (from yfinance) (2.31.0)\n",
      "Requirement already satisfied: multitasking>=0.0.7 in ./anaconda3/lib/python3.11/site-packages (from yfinance) (0.0.11)\n",
      "Requirement already satisfied: lxml>=4.9.1 in ./anaconda3/lib/python3.11/site-packages (from yfinance) (4.9.3)\n",
      "Requirement already satisfied: appdirs>=1.4.4 in ./anaconda3/lib/python3.11/site-packages (from yfinance) (1.4.4)\n",
      "Requirement already satisfied: pytz>=2022.5 in ./anaconda3/lib/python3.11/site-packages (from yfinance) (2023.3.post1)\n",
      "Requirement already satisfied: frozendict>=2.3.4 in ./anaconda3/lib/python3.11/site-packages (from yfinance) (2.4.0)\n",
      "Requirement already satisfied: peewee>=3.16.2 in ./anaconda3/lib/python3.11/site-packages (from yfinance) (3.17.0)\n",
      "Requirement already satisfied: beautifulsoup4>=4.11.1 in ./anaconda3/lib/python3.11/site-packages (from yfinance) (4.12.2)\n",
      "Requirement already satisfied: html5lib>=1.1 in ./anaconda3/lib/python3.11/site-packages (from yfinance) (1.1)\n",
      "Requirement already satisfied: soupsieve>1.2 in ./anaconda3/lib/python3.11/site-packages (from beautifulsoup4>=4.11.1->yfinance) (2.4)\n",
      "Requirement already satisfied: six>=1.9 in ./anaconda3/lib/python3.11/site-packages (from html5lib>=1.1->yfinance) (1.16.0)\n",
      "Requirement already satisfied: webencodings in ./anaconda3/lib/python3.11/site-packages (from html5lib>=1.1->yfinance) (0.5.1)\n",
      "Requirement already satisfied: python-dateutil>=2.8.2 in ./anaconda3/lib/python3.11/site-packages (from pandas>=1.3.0->yfinance) (2.8.2)\n",
      "Requirement already satisfied: tzdata>=2022.1 in ./anaconda3/lib/python3.11/site-packages (from pandas>=1.3.0->yfinance) (2023.3)\n",
      "Requirement already satisfied: charset-normalizer<4,>=2 in ./anaconda3/lib/python3.11/site-packages (from requests>=2.31->yfinance) (2.0.4)\n",
      "Requirement already satisfied: idna<4,>=2.5 in ./anaconda3/lib/python3.11/site-packages (from requests>=2.31->yfinance) (3.4)\n",
      "Requirement already satisfied: urllib3<3,>=1.21.1 in ./anaconda3/lib/python3.11/site-packages (from requests>=2.31->yfinance) (1.26.16)\n",
      "Requirement already satisfied: certifi>=2017.4.17 in ./anaconda3/lib/python3.11/site-packages (from requests>=2.31->yfinance) (2023.7.22)\n",
      "Note: you may need to restart the kernel to use updated packages.\n"
     ]
    }
   ],
   "source": [
    "#upgrade the library 'yfinance'\n",
    "pip install --upgrade yfinance"
   ]
  },
  {
   "cell_type": "code",
   "execution_count": 6,
   "id": "20b7a7b6",
   "metadata": {
    "scrolled": true
   },
   "outputs": [
    {
     "name": "stderr",
     "output_type": "stream",
     "text": [
      "[*********************100%%**********************]  1 of 1 completed\n"
     ]
    }
   ],
   "source": [
    "tesla_data = yf.download(stock_symbol)"
   ]
  },
  {
   "cell_type": "code",
   "execution_count": 7,
   "id": "cb043fc6",
   "metadata": {},
   "outputs": [
    {
     "data": {
      "text/html": [
       "<div>\n",
       "<style scoped>\n",
       "    .dataframe tbody tr th:only-of-type {\n",
       "        vertical-align: middle;\n",
       "    }\n",
       "\n",
       "    .dataframe tbody tr th {\n",
       "        vertical-align: top;\n",
       "    }\n",
       "\n",
       "    .dataframe thead th {\n",
       "        text-align: right;\n",
       "    }\n",
       "</style>\n",
       "<table border=\"1\" class=\"dataframe\">\n",
       "  <thead>\n",
       "    <tr style=\"text-align: right;\">\n",
       "      <th></th>\n",
       "      <th>Open</th>\n",
       "      <th>High</th>\n",
       "      <th>Low</th>\n",
       "      <th>Close</th>\n",
       "      <th>Adj Close</th>\n",
       "      <th>Volume</th>\n",
       "    </tr>\n",
       "    <tr>\n",
       "      <th>Date</th>\n",
       "      <th></th>\n",
       "      <th></th>\n",
       "      <th></th>\n",
       "      <th></th>\n",
       "      <th></th>\n",
       "      <th></th>\n",
       "    </tr>\n",
       "  </thead>\n",
       "  <tbody>\n",
       "    <tr>\n",
       "      <th>2010-06-29</th>\n",
       "      <td>1.266667</td>\n",
       "      <td>1.666667</td>\n",
       "      <td>1.169333</td>\n",
       "      <td>1.592667</td>\n",
       "      <td>1.592667</td>\n",
       "      <td>281494500</td>\n",
       "    </tr>\n",
       "    <tr>\n",
       "      <th>2010-06-30</th>\n",
       "      <td>1.719333</td>\n",
       "      <td>2.028000</td>\n",
       "      <td>1.553333</td>\n",
       "      <td>1.588667</td>\n",
       "      <td>1.588667</td>\n",
       "      <td>257806500</td>\n",
       "    </tr>\n",
       "    <tr>\n",
       "      <th>2010-07-01</th>\n",
       "      <td>1.666667</td>\n",
       "      <td>1.728000</td>\n",
       "      <td>1.351333</td>\n",
       "      <td>1.464000</td>\n",
       "      <td>1.464000</td>\n",
       "      <td>123282000</td>\n",
       "    </tr>\n",
       "    <tr>\n",
       "      <th>2010-07-02</th>\n",
       "      <td>1.533333</td>\n",
       "      <td>1.540000</td>\n",
       "      <td>1.247333</td>\n",
       "      <td>1.280000</td>\n",
       "      <td>1.280000</td>\n",
       "      <td>77097000</td>\n",
       "    </tr>\n",
       "    <tr>\n",
       "      <th>2010-07-06</th>\n",
       "      <td>1.333333</td>\n",
       "      <td>1.333333</td>\n",
       "      <td>1.055333</td>\n",
       "      <td>1.074000</td>\n",
       "      <td>1.074000</td>\n",
       "      <td>103003500</td>\n",
       "    </tr>\n",
       "  </tbody>\n",
       "</table>\n",
       "</div>"
      ],
      "text/plain": [
       "                Open      High       Low     Close  Adj Close     Volume\n",
       "Date                                                                    \n",
       "2010-06-29  1.266667  1.666667  1.169333  1.592667   1.592667  281494500\n",
       "2010-06-30  1.719333  2.028000  1.553333  1.588667   1.588667  257806500\n",
       "2010-07-01  1.666667  1.728000  1.351333  1.464000   1.464000  123282000\n",
       "2010-07-02  1.533333  1.540000  1.247333  1.280000   1.280000   77097000\n",
       "2010-07-06  1.333333  1.333333  1.055333  1.074000   1.074000  103003500"
      ]
     },
     "execution_count": 7,
     "metadata": {},
     "output_type": "execute_result"
    }
   ],
   "source": [
    "tesla_data.head()"
   ]
  },
  {
   "cell_type": "code",
   "execution_count": 8,
   "id": "c056d36e",
   "metadata": {},
   "outputs": [],
   "source": [
    "import matplotlib.pyplot as plt"
   ]
  },
  {
   "cell_type": "code",
   "execution_count": 16,
   "id": "3372cf75",
   "metadata": {},
   "outputs": [],
   "source": [
    "def make_graph(data, title):\n",
    "    \n",
    "    #set the figure size\n",
    "    plt.figure(figsize = (10,6))\n",
    "    \n",
    "    #plot the closing prices using the 'Close' column of the provided data\n",
    "    plt.plot(data['Close'], label = 'Closing Price', color = 'blue')\n",
    "    \n",
    "    #set the title of the plot\n",
    "    plt.title(title)\n",
    "    \n",
    "    #set the labels for the x and y axes\n",
    "    plt.xlabel('Date')\n",
    "    plt.ylabel('Closing Price')\n",
    "    \n",
    "    #display a legend to identify the plotted line\n",
    "    plt.legend()\n",
    "    \n",
    "    #show the plot\n",
    "    plt.show()"
   ]
  },
  {
   "cell_type": "code",
   "execution_count": 17,
   "id": "64e3996b",
   "metadata": {},
   "outputs": [],
   "source": [
    "graph_title = 'Tesla Stock Closing Prices Over Time'"
   ]
  },
  {
   "cell_type": "code",
   "execution_count": 18,
   "id": "95d84101",
   "metadata": {},
   "outputs": [
    {
     "data": {
      "image/png": "[encoded data removed]",
      "text/plain": [
       "<Figure size 1000x600 with 1 Axes>"
      ]
     },
     "metadata": {},
     "output_type": "display_data"
    }
   ],
   "source": [
    "make_graph(tesla_data, graph_title)"
   ]
  },
  {
   "cell_type": "code",
   "execution_count": 15,
   "id": "2340c673",
   "metadata": {},
   "outputs": [
    {
     "data": {
      "text/plain": [
       "Index(['Open', 'High', 'Low', 'Close', 'Adj Close', 'Volume'], dtype='object')"
      ]
     },
     "execution_count": 15,
     "metadata": {},
     "output_type": "execute_result"
    }
   ],
   "source": [
    "tesla_data.columns"
   ]
  },
  {
   "cell_type": "code",
   "execution_count": 19,
   "id": "f424d058",
   "metadata": {},
   "outputs": [],
   "source": [
    "ticker_symbol = 'GME'"
   ]
  },
  {
   "cell_type": "code",
   "execution_count": 20,
   "id": "c2da84d9",
   "metadata": {},
   "outputs": [
    {
     "name": "stderr",
     "output_type": "stream",
     "text": [
      "[*********************100%%**********************]  1 of 1 completed\n"
     ]
    }
   ],
   "source": [
    "gme_data = yf.download(ticker_symbol)"
   ]
  },
  {
   "cell_type": "code",
   "execution_count": 21,
   "id": "b1463f4b",
   "metadata": {},
   "outputs": [
    {
     "data": {
      "text/html": [
       "<div>\n",
       "<style scoped>\n",
       "    .dataframe tbody tr th:only-of-type {\n",
       "        vertical-align: middle;\n",
       "    }\n",
       "\n",
       "    .dataframe tbody tr th {\n",
       "        vertical-align: top;\n",
       "    }\n",
       "\n",
       "    .dataframe thead th {\n",
       "        text-align: right;\n",
       "    }\n",
       "</style>\n",
       "<table border=\"1\" class=\"dataframe\">\n",
       "  <thead>\n",
       "    <tr style=\"text-align: right;\">\n",
       "      <th></th>\n",
       "      <th>Open</th>\n",
       "      <th>High</th>\n",
       "      <th>Low</th>\n",
       "      <th>Close</th>\n",
       "      <th>Adj Close</th>\n",
       "      <th>Volume</th>\n",
       "    </tr>\n",
       "    <tr>\n",
       "      <th>Date</th>\n",
       "      <th></th>\n",
       "      <th></th>\n",
       "      <th></th>\n",
       "      <th></th>\n",
       "      <th></th>\n",
       "      <th></th>\n",
       "    </tr>\n",
       "  </thead>\n",
       "  <tbody>\n",
       "    <tr>\n",
       "      <th>2002-02-13</th>\n",
       "      <td>2.40625</td>\n",
       "      <td>2.51500</td>\n",
       "      <td>2.38125</td>\n",
       "      <td>2.51250</td>\n",
       "      <td>1.691666</td>\n",
       "      <td>76216000</td>\n",
       "    </tr>\n",
       "    <tr>\n",
       "      <th>2002-02-14</th>\n",
       "      <td>2.54375</td>\n",
       "      <td>2.54875</td>\n",
       "      <td>2.48125</td>\n",
       "      <td>2.50000</td>\n",
       "      <td>1.683250</td>\n",
       "      <td>11021600</td>\n",
       "    </tr>\n",
       "    <tr>\n",
       "      <th>2002-02-15</th>\n",
       "      <td>2.50000</td>\n",
       "      <td>2.50625</td>\n",
       "      <td>2.46250</td>\n",
       "      <td>2.48750</td>\n",
       "      <td>1.674834</td>\n",
       "      <td>8389600</td>\n",
       "    </tr>\n",
       "    <tr>\n",
       "      <th>2002-02-19</th>\n",
       "      <td>2.47500</td>\n",
       "      <td>2.47500</td>\n",
       "      <td>2.34375</td>\n",
       "      <td>2.38750</td>\n",
       "      <td>1.607504</td>\n",
       "      <td>7410400</td>\n",
       "    </tr>\n",
       "    <tr>\n",
       "      <th>2002-02-20</th>\n",
       "      <td>2.40000</td>\n",
       "      <td>2.46875</td>\n",
       "      <td>2.38125</td>\n",
       "      <td>2.46875</td>\n",
       "      <td>1.662209</td>\n",
       "      <td>6892800</td>\n",
       "    </tr>\n",
       "  </tbody>\n",
       "</table>\n",
       "</div>"
      ],
      "text/plain": [
       "               Open     High      Low    Close  Adj Close    Volume\n",
       "Date                                                               \n",
       "2002-02-13  2.40625  2.51500  2.38125  2.51250   1.691666  76216000\n",
       "2002-02-14  2.54375  2.54875  2.48125  2.50000   1.683250  11021600\n",
       "2002-02-15  2.50000  2.50625  2.46250  2.48750   1.674834   8389600\n",
       "2002-02-19  2.47500  2.47500  2.34375  2.38750   1.607504   7410400\n",
       "2002-02-20  2.40000  2.46875  2.38125  2.46875   1.662209   6892800"
      ]
     },
     "execution_count": 21,
     "metadata": {},
     "output_type": "execute_result"
    }
   ],
   "source": [
    "gme_data.head()"
   ]
  },
  {
   "cell_type": "code",
   "execution_count": 22,
   "id": "1bef4df0",
   "metadata": {},
   "outputs": [],
   "source": [
    "def make_graph(data, title):\n",
    "    plt.figure(figsize = (10,6))\n",
    "    plt.plot(data['Close'], label = 'Closing Price', color = 'blue')\n",
    "    plt.title(title)\n",
    "    plt.xlabel('Date')\n",
    "    plt.ylabel('Closing Price')\n",
    "    plt.legend()\n",
    "    plt.show()"
   ]
  },
  {
   "cell_type": "code",
   "execution_count": 23,
   "id": "c584aacb",
   "metadata": {},
   "outputs": [],
   "source": [
    "graph_title = 'GameStop Stock Closing Prices Over Time'"
   ]
  },
  {
   "cell_type": "code",
   "execution_count": 24,
   "id": "8afe5dc9",
   "metadata": {},
   "outputs": [
    {
     "data": {
      "image/png": "[encoded data removed]",
      "text/plain": [
       "<Figure size 1000x600 with 1 Axes>"
      ]
     },
     "metadata": {},
     "output_type": "display_data"
    }
   ],
   "source": [
    "make_graph(gme_data, graph_title)"
   ]
  },
  {
   "cell_type": "markdown",
   "id": "c5246e4c",
   "metadata": {},
   "source": [
    "# Webscraping"
   ]
  },
  {
   "cell_type": "code",
   "execution_count": 32,
   "id": "fb685837",
   "metadata": {},
   "outputs": [
    {
     "name": "stdout",
     "output_type": "stream",
     "text": [
      "Requirement already satisfied: requests in ./anaconda3/lib/python3.11/site-packages (2.31.0)\n",
      "Requirement already satisfied: BeautifulSoup4 in ./anaconda3/lib/python3.11/site-packages (4.12.2)\n",
      "Requirement already satisfied: pandas in ./anaconda3/lib/python3.11/site-packages (2.0.3)\n",
      "Requirement already satisfied: charset-normalizer<4,>=2 in ./anaconda3/lib/python3.11/site-packages (from requests) (2.0.4)\n",
      "Requirement already satisfied: idna<4,>=2.5 in ./anaconda3/lib/python3.11/site-packages (from requests) (3.4)\n",
      "Requirement already satisfied: urllib3<3,>=1.21.1 in ./anaconda3/lib/python3.11/site-packages (from requests) (1.26.16)\n",
      "Requirement already satisfied: certifi>=2017.4.17 in ./anaconda3/lib/python3.11/site-packages (from requests) (2023.7.22)\n",
      "Requirement already satisfied: soupsieve>1.2 in ./anaconda3/lib/python3.11/site-packages (from BeautifulSoup4) (2.4)\n",
      "Requirement already satisfied: python-dateutil>=2.8.2 in ./anaconda3/lib/python3.11/site-packages (from pandas) (2.8.2)\n",
      "Requirement already satisfied: pytz>=2020.1 in ./anaconda3/lib/python3.11/site-packages (from pandas) (2023.3.post1)\n",
      "Requirement already satisfied: tzdata>=2022.1 in ./anaconda3/lib/python3.11/site-packages (from pandas) (2023.3)\n",
      "Requirement already satisfied: numpy>=1.21.0 in ./anaconda3/lib/python3.11/site-packages (from pandas) (1.24.3)\n",
      "Requirement already satisfied: six>=1.5 in ./anaconda3/lib/python3.11/site-packages (from python-dateutil>=2.8.2->pandas) (1.16.0)\n",
      "Note: you may need to restart the kernel to use updated packages.\n"
     ]
    }
   ],
   "source": [
    "pip install requests BeautifulSoup4 pandas"
   ]
  },
  {
   "cell_type": "code",
   "execution_count": 33,
   "id": "7c241568",
   "metadata": {},
   "outputs": [],
   "source": [
    "import requests"
   ]
  },
  {
   "cell_type": "code",
   "execution_count": 34,
   "id": "f2a394c0",
   "metadata": {},
   "outputs": [],
   "source": [
    "from bs4 import BeautifulSoup"
   ]
  },
  {
   "cell_type": "code",
   "execution_count": 36,
   "id": "0ac1b5d4",
   "metadata": {},
   "outputs": [],
   "source": [
    "import pandas as pd"
   ]
  },
  {
   "cell_type": "code",
   "execution_count": 37,
   "id": "83964ca5",
   "metadata": {},
   "outputs": [],
   "source": [
    "#URL of the page containing GameStop revenue data\n",
    "url = 'https://www.macrotrends.net/stocks/charts/TSLA/tesla-inc/revenue' "
   ]
  },
  {
   "cell_type": "code",
   "execution_count": 39,
   "id": "406001ec",
   "metadata": {},
   "outputs": [],
   "source": [
    "#send a GET request to the URL\n",
    "response = requests.get(url)"
   ]
  },
  {
   "cell_type": "code",
   "execution_count": 40,
   "id": "2054e654",
   "metadata": {},
   "outputs": [
    {
     "name": "stdout",
     "output_type": "stream",
     "text": [
      "Failed to retrieve data. Status code:403\n"
     ]
    }
   ],
   "source": [
    "#check if the request was successful (status code 200)\n",
    "if response.status_code == 200:\n",
    "    #parse the HTML content of the page\n",
    "    soup = BeautifulSoup(response.text, 'html.parser')\n",
    "    \n",
    "    #find the table containing revenue data (assuming it's the first table on the page)\n",
    "    table = soup.find('table')\n",
    "    \n",
    "    #use pandas to read the HTML table into a DataFrame\n",
    "    tesla.revenue = pd.read_html(str(table))[0]\n",
    "    \n",
    "    #display the last 5 rows of the DataFrame\n",
    "    display(tesla_revenue.tail())\n",
    "else:\n",
    "    print(f\"Failed to retrieve data. Status code:{response.status_code}\")"
   ]
  },
  {
   "cell_type": "code",
   "execution_count": 41,
   "id": "58b54d8e",
   "metadata": {},
   "outputs": [],
   "source": [
    "url2 = 'https://www.macrotrends.net/stocks/charts/GME/gamestop/revenue'"
   ]
  },
  {
   "cell_type": "code",
   "execution_count": 42,
   "id": "d45de8a1",
   "metadata": {},
   "outputs": [],
   "source": [
    "response2 = requests.get(url2)"
   ]
  },
  {
   "cell_type": "code",
   "execution_count": 43,
   "id": "98ef5bee",
   "metadata": {},
   "outputs": [
    {
     "name": "stdout",
     "output_type": "stream",
     "text": [
      "Failed to retrieve data. Status code:403\n"
     ]
    }
   ],
   "source": [
    "if response.status_code == 200:\n",
    "    soup = BeautifulSoup(response.text, 'html.parser')\n",
    "    table = soup.find('table')\n",
    "    tesla.revenue = pd.read_html(str(table))[0]\n",
    "    display(tesla_revenue.tail())\n",
    "else:\n",
    "    print(f\"Failed to retrieve data. Status code:{response.status_code}\")"
   ]
  }
 ],
 "metadata": {
  "kernelspec": {
   "display_name": "Python 3 (ipykernel)",
   "language": "python",
   "name": "python3"
  },
  "language_info": {
   "codemirror_mode": {
    "name": "ipython",
    "version": 3
   },
   "file_extension": ".py",
   "mimetype": "text/x-python",
   "name": "python",
   "nbconvert_exporter": "python",
   "pygments_lexer": "ipython3",
   "version": "3.11.5"
  }
 },
 "nbformat": 4,
 "nbformat_minor": 5
}
